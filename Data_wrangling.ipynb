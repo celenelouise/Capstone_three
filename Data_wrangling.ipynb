{
 "cells": [
  {
   "cell_type": "markdown",
   "id": "4ea72a88-d3e3-4d15-af94-bb4661056f13",
   "metadata": {},
   "source": [
    "# Data Wrangling: Geographic Segmentation"
   ]
  },
  {
   "cell_type": "markdown",
   "id": "3a4106e4-1e9a-4796-9a14-f192f900e979",
   "metadata": {},
   "source": [
    "###  This dataset contains sales history from Caring Transitions of Southern Arizona Ctbids online auction platform from July 2024 through end of December 2024. The goal is to better understand who our customer base is, where they are located, what percent of them are utilizing shipping and what trends can we find to market to them better."
   ]
  },
  {
   "cell_type": "markdown",
   "id": "2d5fac10-8755-4ab7-ba4d-efd96d5e1274",
   "metadata": {},
   "source": [
    "### Column Explanation:\n",
    "- **Customer ID:** Anonymous id for winning customers personal information\n",
    "- **Item Name:** Title of the listing (can contain multplie items)\n",
    "- **Type:** Onsite or Auction, all should be marked auction otherwise it is an error\n",
    "- **Sku:** System for employee who created the lot and location/inventory number of the lot\n",
    "- **Category Name:** Employee choosen category for item name\n",
    "- **Invoice Number:** Unique auto-generated number assigned to each item once the sale has closed\n",
    "- **Invoice Status:** Paid or Unpaid (none indicates item was not bid on)\n",
    "- **Add On Invoice Number:** If an additional invoice was added like shipping\n",
    "- **Add On Invoice Status:** Paid or Unpaid of add on invoice\n",
    "- **Item Receipt Method:** The method that the customer wants the item, either shipping, delivery, or local pick-up\n",
    "- **Item ID:**\n",
    "- **Winner First Name:** Winning customers first name\n",
    "- **Zip:** Winning customers associated zip code\n",
    "- **Buyers Premium:** 18% of winning bid price added on to the invoice\n",
    "- **Tax Buyers Premium:** tax added to buyers premium, 0 for this caring transitions location\n",
    "- **Status:** Sold or Unsold (unsold would infer no bids where placed on that listing)\n",
    "- **Sale Title:** Title of the sale the listing belongs to\n",
    "- **Sale Start Date:** Date that the sale went live\n",
    "- **Sale End Date:** Date that the sale ends\n",
    "- **Item Close Time:** Time that listing officially ended\n",
    "- **Reserve Price:** If the item has a reserve amount it would be put here\n",
    "- **Number of Views:** Number of views that listing has received while live\n",
    "- **Sale Price:** The final price the listing ended at\n",
    "- **Tax:** 8.7% of sales price added on for Arizona state sales tax\n",
    "- **Number of Bids:** Total number of bids placed on item\n",
    "- **Taxexempt:** If the winning bidder was tax-exempt\n",
    "- **Item Link:** Link with photos to the listing\n",
    "- **Item Shippable:** If the item ships, for this storefront all items are shippable"
   ]
  },
  {
   "cell_type": "code",
   "execution_count": 4,
   "id": "975f37e0-b2e6-4ff9-9ae5-3eefbc2bc461",
   "metadata": {},
   "outputs": [],
   "source": [
    "import pandas as pd\n",
    "import numpy as np\n",
    "import datetime as dt\n",
    "import matplotlib.pyplot as plt\n",
    "import seaborn as sns"
   ]
  },
  {
   "cell_type": "code",
   "execution_count": 5,
   "id": "989ab717-f9d6-479d-9a4b-26ec3b044f1b",
   "metadata": {},
   "outputs": [],
   "source": [
    "# Loading in the data\n",
    "saleshist = pd.read_csv('cleaned_saleshistory.csv')"
   ]
  },
  {
   "cell_type": "code",
   "execution_count": 6,
   "id": "59ab7ac1-5aa4-466b-9234-09ae936f3cd5",
   "metadata": {},
   "outputs": [
    {
     "data": {
      "text/plain": [
       "(8153, 27)"
      ]
     },
     "execution_count": 6,
     "metadata": {},
     "output_type": "execute_result"
    }
   ],
   "source": [
    "saleshist.shape"
   ]
  },
  {
   "cell_type": "code",
   "execution_count": 7,
   "id": "ef380d98-180b-496c-9244-ad9f281316b7",
   "metadata": {},
   "outputs": [
    {
     "data": {
      "text/html": [
       "<div>\n",
       "<style scoped>\n",
       "    .dataframe tbody tr th:only-of-type {\n",
       "        vertical-align: middle;\n",
       "    }\n",
       "\n",
       "    .dataframe tbody tr th {\n",
       "        vertical-align: top;\n",
       "    }\n",
       "\n",
       "    .dataframe thead th {\n",
       "        text-align: right;\n",
       "    }\n",
       "</style>\n",
       "<table border=\"1\" class=\"dataframe\">\n",
       "  <thead>\n",
       "    <tr style=\"text-align: right;\">\n",
       "      <th></th>\n",
       "      <th>Customer ID</th>\n",
       "      <th>Item Name</th>\n",
       "      <th>Type</th>\n",
       "      <th>SKU</th>\n",
       "      <th>Category Name</th>\n",
       "      <th>Invoice Number</th>\n",
       "      <th>Invoice Status</th>\n",
       "      <th>Add On Invoice Number</th>\n",
       "      <th>Add On Invoice Status</th>\n",
       "      <th>Item Receipt Method</th>\n",
       "      <th>...</th>\n",
       "      <th>Sale End Date</th>\n",
       "      <th>Item Close Time</th>\n",
       "      <th>Reserve Price</th>\n",
       "      <th>Number of Views</th>\n",
       "      <th>Sale Price</th>\n",
       "      <th>Tax</th>\n",
       "      <th>Number of Bids</th>\n",
       "      <th>Taxexempt</th>\n",
       "      <th>Item Link</th>\n",
       "      <th>Item Shippable</th>\n",
       "    </tr>\n",
       "  </thead>\n",
       "  <tbody>\n",
       "    <tr>\n",
       "      <th>0</th>\n",
       "      <td>1</td>\n",
       "      <td>2 Box Cloth And Fabric Mystery Lot #1</td>\n",
       "      <td>Auction</td>\n",
       "      <td>SBE4712T2</td>\n",
       "      <td>Mystery Lots</td>\n",
       "      <td>3.002387e+09</td>\n",
       "      <td>Paid</td>\n",
       "      <td>NaN</td>\n",
       "      <td>NaN</td>\n",
       "      <td>pickup</td>\n",
       "      <td>...</td>\n",
       "      <td>07/22/2024 06:30 PM MST</td>\n",
       "      <td>07/22/2024 07:04:00 PM MST</td>\n",
       "      <td>0.0</td>\n",
       "      <td>68</td>\n",
       "      <td>15.27</td>\n",
       "      <td>1.33</td>\n",
       "      <td>9.0</td>\n",
       "      <td>No</td>\n",
       "      <td>https://ctbids.com/estate-sale/30023/item/3301432</td>\n",
       "      <td>Yes</td>\n",
       "    </tr>\n",
       "    <tr>\n",
       "      <th>1</th>\n",
       "      <td>2</td>\n",
       "      <td>American Flag Tapestry, ESPN Football, Pop Wa...</td>\n",
       "      <td>Auction</td>\n",
       "      <td>DTE5014SW</td>\n",
       "      <td>Sports Memorabilia</td>\n",
       "      <td>3.153441e+11</td>\n",
       "      <td>Paid</td>\n",
       "      <td>NaN</td>\n",
       "      <td>NaN</td>\n",
       "      <td>pickup</td>\n",
       "      <td>...</td>\n",
       "      <td>09/30/2024 06:30 PM MST</td>\n",
       "      <td>09/30/2024 06:59:00 PM MST</td>\n",
       "      <td>0.0</td>\n",
       "      <td>30</td>\n",
       "      <td>3.00</td>\n",
       "      <td>0.00</td>\n",
       "      <td>3.0</td>\n",
       "      <td>No</td>\n",
       "      <td>https://ctbids.com/estate-sale/31534/item/3501414</td>\n",
       "      <td>Yes</td>\n",
       "    </tr>\n",
       "    <tr>\n",
       "      <th>2</th>\n",
       "      <td>3</td>\n",
       "      <td>Ashley Dining Room Table</td>\n",
       "      <td>Auction</td>\n",
       "      <td>K1722</td>\n",
       "      <td>Tables</td>\n",
       "      <td>3.010551e+10</td>\n",
       "      <td>Paid</td>\n",
       "      <td>NaN</td>\n",
       "      <td>NaN</td>\n",
       "      <td>pickup</td>\n",
       "      <td>...</td>\n",
       "      <td>07/23/2024 06:30 PM MST</td>\n",
       "      <td>07/23/2024 06:40:00 PM MST</td>\n",
       "      <td>0.0</td>\n",
       "      <td>97</td>\n",
       "      <td>52.00</td>\n",
       "      <td>4.52</td>\n",
       "      <td>19.0</td>\n",
       "      <td>No</td>\n",
       "      <td>https://ctbids.com/estate-sale/30105/item/3301548</td>\n",
       "      <td>Yes</td>\n",
       "    </tr>\n",
       "    <tr>\n",
       "      <th>3</th>\n",
       "      <td>4</td>\n",
       "      <td>Beautiful wall art</td>\n",
       "      <td>Auction</td>\n",
       "      <td>LVW4606AC</td>\n",
       "      <td>Art Other</td>\n",
       "      <td>3.017369e+10</td>\n",
       "      <td>Paid</td>\n",
       "      <td>NaN</td>\n",
       "      <td>NaN</td>\n",
       "      <td>pickup</td>\n",
       "      <td>...</td>\n",
       "      <td>07/29/2024 06:30 PM MST</td>\n",
       "      <td>07/29/2024 06:33:00 PM MST</td>\n",
       "      <td>0.0</td>\n",
       "      <td>36</td>\n",
       "      <td>3.00</td>\n",
       "      <td>0.26</td>\n",
       "      <td>3.0</td>\n",
       "      <td>No</td>\n",
       "      <td>https://ctbids.com/estate-sale/30173/item/3317953</td>\n",
       "      <td>Yes</td>\n",
       "    </tr>\n",
       "    <tr>\n",
       "      <th>4</th>\n",
       "      <td>4</td>\n",
       "      <td>C Jaffey Original Oil Painting of Cottage Lan...</td>\n",
       "      <td>Auction</td>\n",
       "      <td>CCO4514AC5</td>\n",
       "      <td>Paintings</td>\n",
       "      <td>3.121569e+10</td>\n",
       "      <td>Paid</td>\n",
       "      <td>NaN</td>\n",
       "      <td>NaN</td>\n",
       "      <td>pickup</td>\n",
       "      <td>...</td>\n",
       "      <td>09/16/2024 06:30 PM MST</td>\n",
       "      <td>09/16/2024 07:29:00 PM MST</td>\n",
       "      <td>0.0</td>\n",
       "      <td>25</td>\n",
       "      <td>9.88</td>\n",
       "      <td>0.86</td>\n",
       "      <td>10.0</td>\n",
       "      <td>No</td>\n",
       "      <td>https://ctbids.com/estate-sale/31215/item/3453069</td>\n",
       "      <td>Yes</td>\n",
       "    </tr>\n",
       "  </tbody>\n",
       "</table>\n",
       "<p>5 rows × 27 columns</p>\n",
       "</div>"
      ],
      "text/plain": [
       "   Customer ID                                          Item Name     Type  \\\n",
       "0            1              2 Box Cloth And Fabric Mystery Lot #1  Auction   \n",
       "1            2   American Flag Tapestry, ESPN Football, Pop Wa...  Auction   \n",
       "2            3                           Ashley Dining Room Table  Auction   \n",
       "3            4                                 Beautiful wall art  Auction   \n",
       "4            4   C Jaffey Original Oil Painting of Cottage Lan...  Auction   \n",
       "\n",
       "          SKU       Category Name  Invoice Number Invoice Status  \\\n",
       "0   SBE4712T2        Mystery Lots    3.002387e+09           Paid   \n",
       "1   DTE5014SW  Sports Memorabilia    3.153441e+11           Paid   \n",
       "2       K1722              Tables    3.010551e+10           Paid   \n",
       "3   LVW4606AC           Art Other    3.017369e+10           Paid   \n",
       "4  CCO4514AC5           Paintings    3.121569e+10           Paid   \n",
       "\n",
       "   Add On Invoice Number Add On Invoice Status Item Receipt Method  ...  \\\n",
       "0                    NaN                   NaN              pickup  ...   \n",
       "1                    NaN                   NaN              pickup  ...   \n",
       "2                    NaN                   NaN              pickup  ...   \n",
       "3                    NaN                   NaN              pickup  ...   \n",
       "4                    NaN                   NaN              pickup  ...   \n",
       "\n",
       "             Sale End Date             Item Close Time  Reserve Price  \\\n",
       "0  07/22/2024 06:30 PM MST  07/22/2024 07:04:00 PM MST            0.0   \n",
       "1  09/30/2024 06:30 PM MST  09/30/2024 06:59:00 PM MST            0.0   \n",
       "2  07/23/2024 06:30 PM MST  07/23/2024 06:40:00 PM MST            0.0   \n",
       "3  07/29/2024 06:30 PM MST  07/29/2024 06:33:00 PM MST            0.0   \n",
       "4  09/16/2024 06:30 PM MST  09/16/2024 07:29:00 PM MST            0.0   \n",
       "\n",
       "   Number of Views Sale Price   Tax Number of Bids Taxexempt  \\\n",
       "0               68      15.27  1.33            9.0        No   \n",
       "1               30       3.00  0.00            3.0        No   \n",
       "2               97      52.00  4.52           19.0        No   \n",
       "3               36       3.00  0.26            3.0        No   \n",
       "4               25       9.88  0.86           10.0        No   \n",
       "\n",
       "                                           Item Link  Item Shippable  \n",
       "0  https://ctbids.com/estate-sale/30023/item/3301432             Yes  \n",
       "1  https://ctbids.com/estate-sale/31534/item/3501414             Yes  \n",
       "2  https://ctbids.com/estate-sale/30105/item/3301548             Yes  \n",
       "3  https://ctbids.com/estate-sale/30173/item/3317953             Yes  \n",
       "4  https://ctbids.com/estate-sale/31215/item/3453069             Yes  \n",
       "\n",
       "[5 rows x 27 columns]"
      ]
     },
     "execution_count": 7,
     "metadata": {},
     "output_type": "execute_result"
    }
   ],
   "source": [
    "saleshist.head()"
   ]
  },
  {
   "cell_type": "code",
   "execution_count": 8,
   "id": "a3fa2c4e-6299-4f6d-982a-172cad1e27ba",
   "metadata": {},
   "outputs": [
    {
     "name": "stdout",
     "output_type": "stream",
     "text": [
      "<class 'pandas.core.frame.DataFrame'>\n",
      "RangeIndex: 8153 entries, 0 to 8152\n",
      "Data columns (total 27 columns):\n",
      " #   Column                 Non-Null Count  Dtype  \n",
      "---  ------                 --------------  -----  \n",
      " 0   Customer ID            8153 non-null   int64  \n",
      " 1   Item Name              8153 non-null   object \n",
      " 2   Type                   8153 non-null   object \n",
      " 3   SKU                    8153 non-null   object \n",
      " 4   Category Name          8153 non-null   object \n",
      " 5   Invoice Number         8017 non-null   float64\n",
      " 6   Invoice Status         8017 non-null   object \n",
      " 7   Add On Invoice Number  1704 non-null   float64\n",
      " 8   Add On Invoice Status  1704 non-null   object \n",
      " 9   Item Receipt Method    8017 non-null   object \n",
      " 10  Item ID                8153 non-null   int64  \n",
      " 11  Zip                    8017 non-null   float64\n",
      " 12  Buyers Premium         8153 non-null   float64\n",
      " 13  Tax Buyers Premium     8153 non-null   int64  \n",
      " 14  Status                 8153 non-null   object \n",
      " 15  Sale Title             8153 non-null   object \n",
      " 16  Sale Start Date        8153 non-null   object \n",
      " 17  Sale End Date          8153 non-null   object \n",
      " 18  Item Close Time        8153 non-null   object \n",
      " 19  Reserve Price          8153 non-null   float64\n",
      " 20  Number of Views        8153 non-null   int64  \n",
      " 21  Sale Price             8153 non-null   float64\n",
      " 22  Tax                    8153 non-null   float64\n",
      " 23  Number of Bids         8126 non-null   float64\n",
      " 24  Taxexempt              8153 non-null   object \n",
      " 25  Item Link              8153 non-null   object \n",
      " 26  Item Shippable         8153 non-null   object \n",
      "dtypes: float64(8), int64(4), object(15)\n",
      "memory usage: 1.7+ MB\n"
     ]
    }
   ],
   "source": [
    "saleshist.info()"
   ]
  },
  {
   "cell_type": "markdown",
   "id": "c91047b8-15b4-4221-ac29-c1bc284f5feb",
   "metadata": {},
   "source": [
    "### Cleaning & Identifying Missing Values"
   ]
  },
  {
   "cell_type": "markdown",
   "id": "78daaf2f-10b5-4ea4-b7f7-f9eb7d3531c9",
   "metadata": {},
   "source": [
    "#### Removing columns that are not useful to this particular storefront"
   ]
  },
  {
   "cell_type": "code",
   "execution_count": 11,
   "id": "df304837-c038-4924-b29d-1a02abb51557",
   "metadata": {},
   "outputs": [],
   "source": [
    "saleshist.drop(['Type', 'Add On Invoice Number', 'Add On Invoice Status', 'Item ID', 'Tax Buyers Premium', 'Item Close Time', 'Item Shippable'], axis=1, inplace=True)"
   ]
  },
  {
   "cell_type": "code",
   "execution_count": 12,
   "id": "8baf1b69-378a-42e5-aef7-a9b4965df678",
   "metadata": {},
   "outputs": [
    {
     "name": "stdout",
     "output_type": "stream",
     "text": [
      "<class 'pandas.core.frame.DataFrame'>\n",
      "RangeIndex: 8153 entries, 0 to 8152\n",
      "Data columns (total 20 columns):\n",
      " #   Column               Non-Null Count  Dtype  \n",
      "---  ------               --------------  -----  \n",
      " 0   Customer ID          8153 non-null   int64  \n",
      " 1   Item Name            8153 non-null   object \n",
      " 2   SKU                  8153 non-null   object \n",
      " 3   Category Name        8153 non-null   object \n",
      " 4   Invoice Number       8017 non-null   float64\n",
      " 5   Invoice Status       8017 non-null   object \n",
      " 6   Item Receipt Method  8017 non-null   object \n",
      " 7   Zip                  8017 non-null   float64\n",
      " 8   Buyers Premium       8153 non-null   float64\n",
      " 9   Status               8153 non-null   object \n",
      " 10  Sale Title           8153 non-null   object \n",
      " 11  Sale Start Date      8153 non-null   object \n",
      " 12  Sale End Date        8153 non-null   object \n",
      " 13  Reserve Price        8153 non-null   float64\n",
      " 14  Number of Views      8153 non-null   int64  \n",
      " 15  Sale Price           8153 non-null   float64\n",
      " 16  Tax                  8153 non-null   float64\n",
      " 17  Number of Bids       8126 non-null   float64\n",
      " 18  Taxexempt            8153 non-null   object \n",
      " 19  Item Link            8153 non-null   object \n",
      "dtypes: float64(7), int64(2), object(11)\n",
      "memory usage: 1.2+ MB\n"
     ]
    }
   ],
   "source": [
    "saleshist.info()"
   ]
  },
  {
   "cell_type": "markdown",
   "id": "2f07a789-31d8-4be9-a4ff-49674f138ccd",
   "metadata": {},
   "source": [
    "Item Receipt Method will be an important column for us later so for ease of use I am going to abbreviate this column name"
   ]
  },
  {
   "cell_type": "code",
   "execution_count": 14,
   "id": "277d66db-6b6f-481f-a07b-5992af562b58",
   "metadata": {},
   "outputs": [],
   "source": [
    "saleshist = saleshist.rename(columns={'Item Receipt Method': 'IRM'})"
   ]
  },
  {
   "cell_type": "markdown",
   "id": "646959ee-a8fe-4a03-a0f1-674cca6cfeed",
   "metadata": {},
   "source": [
    "#### Data types & Missing Values"
   ]
  },
  {
   "cell_type": "code",
   "execution_count": 16,
   "id": "a57d9c21-7105-455b-9237-c72358417d26",
   "metadata": {},
   "outputs": [
    {
     "data": {
      "text/plain": [
       "Customer ID          0\n",
       "Item Name            0\n",
       "SKU                  0\n",
       "Category Name        0\n",
       "Invoice Number     136\n",
       "Invoice Status     136\n",
       "IRM                136\n",
       "Zip                136\n",
       "Buyers Premium       0\n",
       "Status               0\n",
       "Sale Title           0\n",
       "Sale Start Date      0\n",
       "Sale End Date        0\n",
       "Reserve Price        0\n",
       "Number of Views      0\n",
       "Sale Price           0\n",
       "Tax                  0\n",
       "Number of Bids      27\n",
       "Taxexempt            0\n",
       "Item Link            0\n",
       "dtype: int64"
      ]
     },
     "execution_count": 16,
     "metadata": {},
     "output_type": "execute_result"
    }
   ],
   "source": [
    "# Checking for total missing data\n",
    "missing_count = saleshist.isnull().sum()\n",
    "missing_count"
   ]
  },
  {
   "cell_type": "markdown",
   "id": "1265b1b5-d9cf-4663-a1f0-64d6498bde71",
   "metadata": {},
   "source": [
    "**Since the majority of our missing values are consistent with Invoice Number & Status that automatically indicates that these missing values are for items that where not bid on (that would be the 27 missing Number of Bids), item names that are pending, or did not meet the reserve price set.**"
   ]
  },
  {
   "cell_type": "code",
   "execution_count": 18,
   "id": "54ecbccd-f460-4ebb-b87a-3d5fb036a5ae",
   "metadata": {},
   "outputs": [
    {
     "data": {
      "image/png": "[encoded data removed]",
      "text/plain": [
       "<Figure size 1000x500 with 1 Axes>"
      ]
     },
     "metadata": {},
     "output_type": "display_data"
    }
   ],
   "source": [
    "# Filter only columns with missing values\n",
    "missing_count = missing_count[missing_count > 0]  \n",
    "\n",
    "# Visualizing the missing data using a heatmap\n",
    "plt.figure(figsize=(10, 5))\n",
    "missing_count.plot(kind='bar', color='cornflowerblue', edgecolor='black')\n",
    "plt.title(\"Count of Missing Values Per Column\")\n",
    "plt.xlabel(\"Columns\")\n",
    "plt.ylabel(\"Number of Missing Values\")\n",
    "plt.xticks(rotation=45)\n",
    "plt.show()"
   ]
  },
  {
   "cell_type": "markdown",
   "id": "0efaf88f-296d-4814-832c-f9b8dc6e4ef3",
   "metadata": {},
   "source": [
    "#### Missing Values: Analyzing Reserve Price in relation to Invoice Numbers"
   ]
  },
  {
   "cell_type": "code",
   "execution_count": 20,
   "id": "f7968fea-1631-4dbe-81ad-87b011ac3c51",
   "metadata": {},
   "outputs": [
    {
     "data": {
      "text/html": [
       "<div>\n",
       "<style scoped>\n",
       "    .dataframe tbody tr th:only-of-type {\n",
       "        vertical-align: middle;\n",
       "    }\n",
       "\n",
       "    .dataframe tbody tr th {\n",
       "        vertical-align: top;\n",
       "    }\n",
       "\n",
       "    .dataframe thead th {\n",
       "        text-align: right;\n",
       "    }\n",
       "</style>\n",
       "<table border=\"1\" class=\"dataframe\">\n",
       "  <thead>\n",
       "    <tr style=\"text-align: right;\">\n",
       "      <th></th>\n",
       "      <th>Customer ID</th>\n",
       "      <th>Item Name</th>\n",
       "      <th>SKU</th>\n",
       "      <th>Category Name</th>\n",
       "      <th>Invoice Number</th>\n",
       "      <th>Invoice Status</th>\n",
       "      <th>IRM</th>\n",
       "      <th>Zip</th>\n",
       "      <th>Buyers Premium</th>\n",
       "      <th>Status</th>\n",
       "      <th>Sale Title</th>\n",
       "      <th>Sale Start Date</th>\n",
       "      <th>Sale End Date</th>\n",
       "      <th>Reserve Price</th>\n",
       "      <th>Number of Views</th>\n",
       "      <th>Sale Price</th>\n",
       "      <th>Tax</th>\n",
       "      <th>Number of Bids</th>\n",
       "      <th>Taxexempt</th>\n",
       "      <th>Item Link</th>\n",
       "    </tr>\n",
       "  </thead>\n",
       "  <tbody>\n",
       "    <tr>\n",
       "      <th>24</th>\n",
       "      <td>23</td>\n",
       "      <td>\"Istanbul Throw\" Blanket And More</td>\n",
       "      <td>DTE4719E</td>\n",
       "      <td>Bedroom Goods</td>\n",
       "      <td>NaN</td>\n",
       "      <td>NaN</td>\n",
       "      <td>NaN</td>\n",
       "      <td>NaN</td>\n",
       "      <td>0.0</td>\n",
       "      <td>Not Sold</td>\n",
       "      <td>CTBIDS WH Online Auction | JULY VOL. 3 | Ends:...</td>\n",
       "      <td>07/10/2024 05:30 PM MST</td>\n",
       "      <td>07/15/2024 12:00 AM MST</td>\n",
       "      <td>0.0</td>\n",
       "      <td>90</td>\n",
       "      <td>0.0</td>\n",
       "      <td>0.0</td>\n",
       "      <td>13.0</td>\n",
       "      <td>No</td>\n",
       "      <td>https://ctbids.com/estate-sale/29865/item/3286218</td>\n",
       "    </tr>\n",
       "    <tr>\n",
       "      <th>44</th>\n",
       "      <td>23</td>\n",
       "      <td>(UPDATED) 9-foot Life Size Bronze Sculpture “E...</td>\n",
       "      <td>BY1832</td>\n",
       "      <td>Sculpture</td>\n",
       "      <td>NaN</td>\n",
       "      <td>NaN</td>\n",
       "      <td>NaN</td>\n",
       "      <td>NaN</td>\n",
       "      <td>0.0</td>\n",
       "      <td>Not Sold</td>\n",
       "      <td>CTBIDS In-Home Online Auction I CONESTOGA AVE ...</td>\n",
       "      <td>08/08/2024 05:30 PM MST</td>\n",
       "      <td>08/13/2024 06:30 PM MST</td>\n",
       "      <td>5000.0</td>\n",
       "      <td>311</td>\n",
       "      <td>0.0</td>\n",
       "      <td>0.0</td>\n",
       "      <td>9.0</td>\n",
       "      <td>No</td>\n",
       "      <td>https://ctbids.com/estate-sale/30529/item/3362096</td>\n",
       "    </tr>\n",
       "    <tr>\n",
       "      <th>45</th>\n",
       "      <td>23</td>\n",
       "      <td>(UPDATED) Bronze  “Life Size” Sculpture Of Don...</td>\n",
       "      <td>BY1831</td>\n",
       "      <td>Sculpture</td>\n",
       "      <td>NaN</td>\n",
       "      <td>NaN</td>\n",
       "      <td>NaN</td>\n",
       "      <td>NaN</td>\n",
       "      <td>0.0</td>\n",
       "      <td>Not Sold</td>\n",
       "      <td>CTBIDS In-Home Online Auction I CONESTOGA AVE ...</td>\n",
       "      <td>08/08/2024 05:30 PM MST</td>\n",
       "      <td>08/13/2024 06:30 PM MST</td>\n",
       "      <td>2500.0</td>\n",
       "      <td>213</td>\n",
       "      <td>0.0</td>\n",
       "      <td>0.0</td>\n",
       "      <td>3.0</td>\n",
       "      <td>No</td>\n",
       "      <td>https://ctbids.com/estate-sale/30529/item/3361240</td>\n",
       "    </tr>\n",
       "    <tr>\n",
       "      <th>46</th>\n",
       "      <td>23</td>\n",
       "      <td>*Do not list* CASH &amp; CARRY Chairs</td>\n",
       "      <td>CC2800</td>\n",
       "      <td>Chairs</td>\n",
       "      <td>NaN</td>\n",
       "      <td>NaN</td>\n",
       "      <td>NaN</td>\n",
       "      <td>NaN</td>\n",
       "      <td>0.0</td>\n",
       "      <td>Pending</td>\n",
       "      <td>CTBIDS In-Home Online Auction I SQUAWBUSH COUR...</td>\n",
       "      <td>09/05/2024 05:30 PM MST</td>\n",
       "      <td>09/10/2024 06:30 PM MST</td>\n",
       "      <td>0.0</td>\n",
       "      <td>0</td>\n",
       "      <td>0.0</td>\n",
       "      <td>0.0</td>\n",
       "      <td>NaN</td>\n",
       "      <td>No</td>\n",
       "      <td>https://ctbids.com/estate-sale/31123/item/3437702</td>\n",
       "    </tr>\n",
       "    <tr>\n",
       "      <th>47</th>\n",
       "      <td>23</td>\n",
       "      <td>*Do not list* Oran And Grubb Storage Or Entert...</td>\n",
       "      <td>GR1815</td>\n",
       "      <td>Bedroom</td>\n",
       "      <td>NaN</td>\n",
       "      <td>NaN</td>\n",
       "      <td>NaN</td>\n",
       "      <td>NaN</td>\n",
       "      <td>0.0</td>\n",
       "      <td>Pending</td>\n",
       "      <td>CTBIDS In-Home Online Auction I SQUAWBUSH COUR...</td>\n",
       "      <td>09/05/2024 05:30 PM MST</td>\n",
       "      <td>09/10/2024 06:30 PM MST</td>\n",
       "      <td>0.0</td>\n",
       "      <td>0</td>\n",
       "      <td>0.0</td>\n",
       "      <td>0.0</td>\n",
       "      <td>NaN</td>\n",
       "      <td>No</td>\n",
       "      <td>https://ctbids.com/estate-sale/31123/item/3446157</td>\n",
       "    </tr>\n",
       "    <tr>\n",
       "      <th>...</th>\n",
       "      <td>...</td>\n",
       "      <td>...</td>\n",
       "      <td>...</td>\n",
       "      <td>...</td>\n",
       "      <td>...</td>\n",
       "      <td>...</td>\n",
       "      <td>...</td>\n",
       "      <td>...</td>\n",
       "      <td>...</td>\n",
       "      <td>...</td>\n",
       "      <td>...</td>\n",
       "      <td>...</td>\n",
       "      <td>...</td>\n",
       "      <td>...</td>\n",
       "      <td>...</td>\n",
       "      <td>...</td>\n",
       "      <td>...</td>\n",
       "      <td>...</td>\n",
       "      <td>...</td>\n",
       "      <td>...</td>\n",
       "    </tr>\n",
       "    <tr>\n",
       "      <th>6817</th>\n",
       "      <td>23</td>\n",
       "      <td>Schafer &amp; Sons VS-40 Upright Piano</td>\n",
       "      <td>LR2804</td>\n",
       "      <td>Keyboards &amp; Pianos</td>\n",
       "      <td>NaN</td>\n",
       "      <td>NaN</td>\n",
       "      <td>NaN</td>\n",
       "      <td>NaN</td>\n",
       "      <td>0.0</td>\n",
       "      <td>Not Sold</td>\n",
       "      <td>CTBIDS In-Home Online Auction I LAVA FALLS I E...</td>\n",
       "      <td>11/28/2024 05:30 PM MST</td>\n",
       "      <td>12/03/2024 06:30 PM MST</td>\n",
       "      <td>0.0</td>\n",
       "      <td>73</td>\n",
       "      <td>0.0</td>\n",
       "      <td>0.0</td>\n",
       "      <td>NaN</td>\n",
       "      <td>No</td>\n",
       "      <td>https://ctbids.com/estate-sale/32908/item/3663175</td>\n",
       "    </tr>\n",
       "    <tr>\n",
       "      <th>6878</th>\n",
       "      <td>23</td>\n",
       "      <td>Signed “Sunset” Watercolor By Wilson</td>\n",
       "      <td>MB1802</td>\n",
       "      <td>Watercolor</td>\n",
       "      <td>NaN</td>\n",
       "      <td>NaN</td>\n",
       "      <td>NaN</td>\n",
       "      <td>NaN</td>\n",
       "      <td>0.0</td>\n",
       "      <td>Not Sold</td>\n",
       "      <td>CTBIDS In-Home Online Auction I CANADA VISTA I...</td>\n",
       "      <td>10/31/2024 05:30 PM MST</td>\n",
       "      <td>11/05/2024 06:30 PM MST</td>\n",
       "      <td>0.0</td>\n",
       "      <td>23</td>\n",
       "      <td>0.0</td>\n",
       "      <td>0.0</td>\n",
       "      <td>NaN</td>\n",
       "      <td>No</td>\n",
       "      <td>https://ctbids.com/estate-sale/32373/item/3594825</td>\n",
       "    </tr>\n",
       "    <tr>\n",
       "      <th>7038</th>\n",
       "      <td>23</td>\n",
       "      <td>Southwestern Style Sofa</td>\n",
       "      <td>LR2821</td>\n",
       "      <td>Sofas</td>\n",
       "      <td>NaN</td>\n",
       "      <td>NaN</td>\n",
       "      <td>NaN</td>\n",
       "      <td>NaN</td>\n",
       "      <td>0.0</td>\n",
       "      <td>Not Sold</td>\n",
       "      <td>CTBIDS In-Home Online Auction I COPPER SPRING ...</td>\n",
       "      <td>11/21/2024 05:30 PM MST</td>\n",
       "      <td>11/26/2024 06:30 PM MST</td>\n",
       "      <td>0.0</td>\n",
       "      <td>25</td>\n",
       "      <td>0.0</td>\n",
       "      <td>0.0</td>\n",
       "      <td>NaN</td>\n",
       "      <td>No</td>\n",
       "      <td>https://ctbids.com/estate-sale/32770/item/3649447</td>\n",
       "    </tr>\n",
       "    <tr>\n",
       "      <th>7458</th>\n",
       "      <td>23</td>\n",
       "      <td>Two Framed Pictures of French Influence</td>\n",
       "      <td>MJY5004PW</td>\n",
       "      <td>Prints</td>\n",
       "      <td>NaN</td>\n",
       "      <td>NaN</td>\n",
       "      <td>NaN</td>\n",
       "      <td>NaN</td>\n",
       "      <td>0.0</td>\n",
       "      <td>Not Sold</td>\n",
       "      <td>CTBIDS WH Online Auction | DECEMBER VOL 1 | En...</td>\n",
       "      <td>11/27/2024 05:30 PM MST</td>\n",
       "      <td>12/02/2024 06:30 PM MST</td>\n",
       "      <td>0.0</td>\n",
       "      <td>9</td>\n",
       "      <td>0.0</td>\n",
       "      <td>0.0</td>\n",
       "      <td>NaN</td>\n",
       "      <td>No</td>\n",
       "      <td>https://ctbids.com/estate-sale/32834/item/3658685</td>\n",
       "    </tr>\n",
       "    <tr>\n",
       "      <th>7566</th>\n",
       "      <td>23</td>\n",
       "      <td>Victor Moscoso's 1967 Grateful Dead Poster - #13</td>\n",
       "      <td>DLR2230JR</td>\n",
       "      <td>Art Other</td>\n",
       "      <td>NaN</td>\n",
       "      <td>NaN</td>\n",
       "      <td>NaN</td>\n",
       "      <td>NaN</td>\n",
       "      <td>0.0</td>\n",
       "      <td>Not Sold</td>\n",
       "      <td>CTBIDS WH Online Auction | DECEMBER VOL 2 | En...</td>\n",
       "      <td>12/04/2024 05:30 PM MST</td>\n",
       "      <td>12/09/2024 06:30 PM MST</td>\n",
       "      <td>0.0</td>\n",
       "      <td>141</td>\n",
       "      <td>0.0</td>\n",
       "      <td>0.0</td>\n",
       "      <td>39.0</td>\n",
       "      <td>No</td>\n",
       "      <td>https://ctbids.com/estate-sale/32949/item/3681817</td>\n",
       "    </tr>\n",
       "  </tbody>\n",
       "</table>\n",
       "<p>136 rows × 20 columns</p>\n",
       "</div>"
      ],
      "text/plain": [
       "      Customer ID                                          Item Name  \\\n",
       "24             23                  \"Istanbul Throw\" Blanket And More   \n",
       "44             23  (UPDATED) 9-foot Life Size Bronze Sculpture “E...   \n",
       "45             23  (UPDATED) Bronze  “Life Size” Sculpture Of Don...   \n",
       "46             23                 *Do not list* CASH & CARRY Chairs    \n",
       "47             23  *Do not list* Oran And Grubb Storage Or Entert...   \n",
       "...           ...                                                ...   \n",
       "6817           23                Schafer & Sons VS-40 Upright Piano    \n",
       "6878           23               Signed “Sunset” Watercolor By Wilson   \n",
       "7038           23                           Southwestern Style Sofa    \n",
       "7458           23           Two Framed Pictures of French Influence    \n",
       "7566           23   Victor Moscoso's 1967 Grateful Dead Poster - #13   \n",
       "\n",
       "            SKU       Category Name  Invoice Number Invoice Status  IRM  Zip  \\\n",
       "24     DTE4719E       Bedroom Goods             NaN            NaN  NaN  NaN   \n",
       "44       BY1832           Sculpture             NaN            NaN  NaN  NaN   \n",
       "45       BY1831           Sculpture             NaN            NaN  NaN  NaN   \n",
       "46       CC2800              Chairs             NaN            NaN  NaN  NaN   \n",
       "47       GR1815             Bedroom             NaN            NaN  NaN  NaN   \n",
       "...         ...                 ...             ...            ...  ...  ...   \n",
       "6817     LR2804  Keyboards & Pianos             NaN            NaN  NaN  NaN   \n",
       "6878     MB1802          Watercolor             NaN            NaN  NaN  NaN   \n",
       "7038     LR2821               Sofas             NaN            NaN  NaN  NaN   \n",
       "7458  MJY5004PW              Prints             NaN            NaN  NaN  NaN   \n",
       "7566  DLR2230JR           Art Other             NaN            NaN  NaN  NaN   \n",
       "\n",
       "      Buyers Premium    Status  \\\n",
       "24               0.0  Not Sold   \n",
       "44               0.0  Not Sold   \n",
       "45               0.0  Not Sold   \n",
       "46               0.0   Pending   \n",
       "47               0.0   Pending   \n",
       "...              ...       ...   \n",
       "6817             0.0  Not Sold   \n",
       "6878             0.0  Not Sold   \n",
       "7038             0.0  Not Sold   \n",
       "7458             0.0  Not Sold   \n",
       "7566             0.0  Not Sold   \n",
       "\n",
       "                                             Sale Title  \\\n",
       "24    CTBIDS WH Online Auction | JULY VOL. 3 | Ends:...   \n",
       "44    CTBIDS In-Home Online Auction I CONESTOGA AVE ...   \n",
       "45    CTBIDS In-Home Online Auction I CONESTOGA AVE ...   \n",
       "46    CTBIDS In-Home Online Auction I SQUAWBUSH COUR...   \n",
       "47    CTBIDS In-Home Online Auction I SQUAWBUSH COUR...   \n",
       "...                                                 ...   \n",
       "6817  CTBIDS In-Home Online Auction I LAVA FALLS I E...   \n",
       "6878  CTBIDS In-Home Online Auction I CANADA VISTA I...   \n",
       "7038  CTBIDS In-Home Online Auction I COPPER SPRING ...   \n",
       "7458  CTBIDS WH Online Auction | DECEMBER VOL 1 | En...   \n",
       "7566  CTBIDS WH Online Auction | DECEMBER VOL 2 | En...   \n",
       "\n",
       "              Sale Start Date            Sale End Date  Reserve Price  \\\n",
       "24    07/10/2024 05:30 PM MST  07/15/2024 12:00 AM MST            0.0   \n",
       "44    08/08/2024 05:30 PM MST  08/13/2024 06:30 PM MST         5000.0   \n",
       "45    08/08/2024 05:30 PM MST  08/13/2024 06:30 PM MST         2500.0   \n",
       "46    09/05/2024 05:30 PM MST  09/10/2024 06:30 PM MST            0.0   \n",
       "47    09/05/2024 05:30 PM MST  09/10/2024 06:30 PM MST            0.0   \n",
       "...                       ...                      ...            ...   \n",
       "6817  11/28/2024 05:30 PM MST  12/03/2024 06:30 PM MST            0.0   \n",
       "6878  10/31/2024 05:30 PM MST  11/05/2024 06:30 PM MST            0.0   \n",
       "7038  11/21/2024 05:30 PM MST  11/26/2024 06:30 PM MST            0.0   \n",
       "7458  11/27/2024 05:30 PM MST  12/02/2024 06:30 PM MST            0.0   \n",
       "7566  12/04/2024 05:30 PM MST  12/09/2024 06:30 PM MST            0.0   \n",
       "\n",
       "      Number of Views  Sale Price  Tax  Number of Bids Taxexempt  \\\n",
       "24                 90         0.0  0.0            13.0        No   \n",
       "44                311         0.0  0.0             9.0        No   \n",
       "45                213         0.0  0.0             3.0        No   \n",
       "46                  0         0.0  0.0             NaN        No   \n",
       "47                  0         0.0  0.0             NaN        No   \n",
       "...               ...         ...  ...             ...       ...   \n",
       "6817               73         0.0  0.0             NaN        No   \n",
       "6878               23         0.0  0.0             NaN        No   \n",
       "7038               25         0.0  0.0             NaN        No   \n",
       "7458                9         0.0  0.0             NaN        No   \n",
       "7566              141         0.0  0.0            39.0        No   \n",
       "\n",
       "                                              Item Link  \n",
       "24    https://ctbids.com/estate-sale/29865/item/3286218  \n",
       "44    https://ctbids.com/estate-sale/30529/item/3362096  \n",
       "45    https://ctbids.com/estate-sale/30529/item/3361240  \n",
       "46    https://ctbids.com/estate-sale/31123/item/3437702  \n",
       "47    https://ctbids.com/estate-sale/31123/item/3446157  \n",
       "...                                                 ...  \n",
       "6817  https://ctbids.com/estate-sale/32908/item/3663175  \n",
       "6878  https://ctbids.com/estate-sale/32373/item/3594825  \n",
       "7038  https://ctbids.com/estate-sale/32770/item/3649447  \n",
       "7458  https://ctbids.com/estate-sale/32834/item/3658685  \n",
       "7566  https://ctbids.com/estate-sale/32949/item/3681817  \n",
       "\n",
       "[136 rows x 20 columns]"
      ]
     },
     "execution_count": 20,
     "metadata": {},
     "output_type": "execute_result"
    }
   ],
   "source": [
    "missing_invoicenum = saleshist[saleshist['Invoice Number'].isnull()]\n",
    "missing_invoicenum"
   ]
  },
  {
   "cell_type": "code",
   "execution_count": 21,
   "id": "287a3a48-81c3-46f7-bea4-17d6686d7006",
   "metadata": {},
   "outputs": [
    {
     "data": {
      "text/plain": [
       "array([   0., 5000., 2500.])"
      ]
     },
     "execution_count": 21,
     "metadata": {},
     "output_type": "execute_result"
    }
   ],
   "source": [
    "missing_invoicenum['Reserve Price'].unique()"
   ]
  },
  {
   "cell_type": "markdown",
   "id": "1c9dab15-240e-4e96-9a58-81184371b923",
   "metadata": {},
   "source": [
    "**Only three unique values of missing invoice numbers with a reserve price, meaning only two of the item listings had reserves that were not sold. There are also some rows classified as not sold with no reserve. Before I remove those I am going to analyze Status=Pending further.**"
   ]
  },
  {
   "cell_type": "markdown",
   "id": "d5a2e206-c0ba-4879-b3c7-5ef956bccc2c",
   "metadata": {},
   "source": [
    "#### Missing Values: Further look into Status & Invoice Status"
   ]
  },
  {
   "cell_type": "code",
   "execution_count": 24,
   "id": "90cb5f95-5779-412b-9619-e85f735bfe7f",
   "metadata": {},
   "outputs": [
    {
     "name": "stdout",
     "output_type": "stream",
     "text": [
      "Status\n",
      "Sold        8017\n",
      "Not Sold     122\n",
      "Pending       14\n",
      "Name: count, dtype: int64\n",
      "Invoice Status\n",
      "Paid      7979\n",
      "Unpaid      38\n",
      "Name: count, dtype: int64\n"
     ]
    }
   ],
   "source": [
    "print(saleshist['Status'].value_counts())\n",
    "print(saleshist['Invoice Status'].value_counts())"
   ]
  },
  {
   "cell_type": "markdown",
   "id": "6d86cb33-a72e-49ae-b179-f9387c05cf65",
   "metadata": {},
   "source": [
    "**Not Sold & Pending equal our 136 NaN values. Pending representing that the items never went live. The combination of both Paid and Unpaid invoices equal our total amount of sold invoices.Therefore I am going to proceed with removing the NaN values**"
   ]
  },
  {
   "cell_type": "markdown",
   "id": "a4e79d13-30bd-4884-ab79-2d1dee4b9440",
   "metadata": {},
   "source": [
    "#### Removing Columns with NaN Values"
   ]
  },
  {
   "cell_type": "code",
   "execution_count": 27,
   "id": "6ddf12ee-648d-49e6-876a-f7d0075fe8fa",
   "metadata": {},
   "outputs": [],
   "source": [
    "nan_cols = [\n",
    "    'Invoice Number',\n",
    "    'Invoice Status',\n",
    "    'IRM',\n",
    "    'Zip'\n",
    "    \n",
    "]\n",
    "\n",
    "# Seperating NaN values into a new DataFrame and this info may be import to have for productivity purposes\n",
    "nan_data = saleshist[saleshist[nan_cols].isnull().any(axis=1)]\n",
    "\n",
    "# Keeping rows without Nan in the orginial df\n",
    "saleshist = saleshist.dropna(subset=nan_cols)"
   ]
  },
  {
   "cell_type": "code",
   "execution_count": 28,
   "id": "be1e17f0-8bfc-4ebd-adea-f5f231183dca",
   "metadata": {},
   "outputs": [
    {
     "data": {
      "text/plain": [
       "Customer ID        0\n",
       "Item Name          0\n",
       "SKU                0\n",
       "Category Name      0\n",
       "Invoice Number     0\n",
       "Invoice Status     0\n",
       "IRM                0\n",
       "Zip                0\n",
       "Buyers Premium     0\n",
       "Status             0\n",
       "Sale Title         0\n",
       "Sale Start Date    0\n",
       "Sale End Date      0\n",
       "Reserve Price      0\n",
       "Number of Views    0\n",
       "Sale Price         0\n",
       "Tax                0\n",
       "Number of Bids     0\n",
       "Taxexempt          0\n",
       "Item Link          0\n",
       "dtype: int64"
      ]
     },
     "execution_count": 28,
     "metadata": {},
     "output_type": "execute_result"
    }
   ],
   "source": [
    "# Checking for total missing data\n",
    "missing_count = saleshist.isnull().sum()\n",
    "missing_count"
   ]
  },
  {
   "cell_type": "markdown",
   "id": "14e09a33-2ef3-4628-b8e4-f415998025b4",
   "metadata": {},
   "source": [
    "**Dtypes:** \n",
    "- Category: depending on how many values we have in that field it likley makes sense to change that to a category \n",
    "- Invoice Number: does not contain decimals and would save space if this is converted into a int\n",
    "- Invoice Status: is only two variables paid or unpaid so this would be best as a category \n",
    "- Item Receipt Method: can only be one of three options, best as a category\n",
    "- Zip: US zip code which is only whole numbers best as int\n",
    "- Status: either sold, not sold, or pending, best as category\n",
    "- Sale Start Date: best as a datetime\n",
    "- Sale End Date: best as a datetime\n",
    "- Number of Bids: whole number, best as int\n",
    "- Taxexempt: either yes or no, best as a bool"
   ]
  },
  {
   "cell_type": "code",
   "execution_count": 30,
   "id": "db26a035-42a8-44bc-9c29-4112f4cf2e21",
   "metadata": {},
   "outputs": [
    {
     "data": {
      "text/plain": [
       "array(['Mystery Lots', 'Sports Memorabilia', 'Tables', 'Art Other',\n",
       "       'Paintings', 'Collectibles Other', 'Chest Of Drawers',\n",
       "       'Household Goods Other', 'Rings', 'Antiques Other',\n",
       "       'Costume Jewelry', 'Clothing Other', 'Artful Pottery',\n",
       "       'Figures & Figurines', 'Prints', 'Bedroom Goods', 'Hand Crafted',\n",
       "       'Sculpture', 'Games & Toys', 'Asian Art', 'Native American Art',\n",
       "       'Storage & Organization', 'Cabinets', 'Chairs', 'Fine Jewelry',\n",
       "       'Hardback', 'Jewelry Other', 'Necklaces', 'Lawn & Landscape',\n",
       "       'Vintage', 'Antique & Vintage', 'Kitchen & Home', 'Model Cars',\n",
       "       'Furniture', 'Coins', 'Advertising', 'Sporting Goods Other',\n",
       "       'Furniture Other', 'Comics', 'Sterling Silver', 'Cars', 'Storage',\n",
       "       'Patio & Deck', 'Decor', 'China Sets', 'TVs', 'Records & CDs',\n",
       "       'Patio Furniture', 'Home Video', 'Barware & Breweriana', 'Clocks',\n",
       "       'Building Materials', 'Decorative Collectibles', 'Film', 'Office',\n",
       "       'Magazines & Newspapers', 'Electronics Other', 'Folk Art',\n",
       "       'Watercolor', 'Hand Tools', 'Ladders', 'Photography',\n",
       "       'Farm Equipment Other', 'Lighting', 'Vintage Books',\n",
       "       'Seasonal & Holiday', 'Mirrors', 'Computers/Laptops', 'Animals',\n",
       "       'Camera Other', 'Instruments', 'Decorative Art', 'Floor Coverings',\n",
       "       'Craft & Hobby', 'Sofas', 'Night Stands', 'Fitness', 'Accessories',\n",
       "       \"Men's Jewelry\", 'Tools Other', 'Power Tools', 'Luggage',\n",
       "       'Dining Room', 'Trading Cards', 'Glassware', 'Dolls', 'Bedroom',\n",
       "       'Handbags & Wallets', 'Ammo', 'Appliances', 'Tools Storage',\n",
       "       'Bracelets', 'Linens', 'Vintage & Antique Toys',\n",
       "       'Parts & Accessories', 'Games', 'Paperback', 'Home Audio',\n",
       "       'Music Other', 'Shoes', 'Dressers', 'Keyboards & Pianos',\n",
       "       'Camping', 'Cycling', \"Women's\", \"Men's\", 'Watches', 'Mexican Art',\n",
       "       \"Children's\", 'Crystal', 'Holiday & Seasonal', 'Crafts & Hobbies',\n",
       "       'Digital', 'Toys Other', 'Retro', 'Medical Equipment',\n",
       "       'Grilling & BBQ', 'Earrings', 'Shelving', 'Militaria', 'Golf',\n",
       "       'Fishing', 'Paint & Painting Supplies', 'Knives, Swords, Blades',\n",
       "       'Gemstones', 'Historical', 'Silver', 'Desks', 'Mid-Century',\n",
       "       'Animation Art & Characters', 'Bottles & Insulators',\n",
       "       'Pet Supplies', 'Rocks, Fossils, Minerals', 'Mobile Devices',\n",
       "       'Video Games', 'Video', 'DVDs', 'Stamps', 'Movie Memorabilia',\n",
       "       'Bath', 'Luxury & Designer Items', 'Motor Vehicles Other',\n",
       "       'Railroad/Transportation', 'Firearms', 'Sunglasses & Glasses',\n",
       "       'Gun Parts', 'Trains', 'Antique'], dtype=object)"
      ]
     },
     "execution_count": 30,
     "metadata": {},
     "output_type": "execute_result"
    }
   ],
   "source": [
    "saleshist['Category Name'].unique()"
   ]
  },
  {
   "cell_type": "markdown",
   "id": "ba8fc45c-df36-4365-bd80-a10280871381",
   "metadata": {},
   "source": [
    "There are quite a few categories although I still believe it would be best to convert this dtype to categories for efficiency and memory. This is not a column that will receive additions and it will be beneficial for recognizing patterns and purchasing trends"
   ]
  },
  {
   "cell_type": "code",
   "execution_count": 32,
   "id": "e1e0aef6-143a-4e48-8a5d-3515957122f3",
   "metadata": {
    "scrolled": true
   },
   "outputs": [
    {
     "name": "stdout",
     "output_type": "stream",
     "text": [
      "555463\n",
      "93299\n"
     ]
    }
   ],
   "source": [
    "# Before conversion\n",
    "print(saleshist['Category Name'].memory_usage(deep=True))\n",
    "\n",
    "# Convert to category\n",
    "saleshist['Category Name'] = saleshist['Category Name'].astype('category')\n",
    "\n",
    "# After conversion\n",
    "print(saleshist['Category Name'].memory_usage(deep=True))"
   ]
  },
  {
   "cell_type": "code",
   "execution_count": 33,
   "id": "976afab3-466d-4eef-94f7-b98166df28e8",
   "metadata": {},
   "outputs": [],
   "source": [
    "saleshist['Invoice Number'] = saleshist['Invoice Number'].astype('int')\n",
    "saleshist['Invoice Status'] = saleshist['Invoice Status'].astype('category')\n",
    "saleshist['IRM'] = saleshist['IRM'].astype('category')\n",
    "saleshist['Zip'] = saleshist['Zip'].astype('int')\n",
    "saleshist['Status'] = saleshist['Status'].astype('category')\n",
    "saleshist['Sale Start Date'] =  pd.to_datetime(saleshist['Sale Start Date'], format='%m/%d/%Y %I:%M %p %Z', errors='coerce')\n",
    "saleshist['Sale End Date'] = pd.to_datetime(saleshist['Sale End Date'], format='%m/%d/%Y %I:%M %p %Z', errors='coerce')\n",
    "saleshist['Number of Bids'] = saleshist['Number of Bids'].astype('int')\n",
    "saleshist['Taxexempt'] = saleshist['Taxexempt'].astype('bool')"
   ]
  },
  {
   "cell_type": "code",
   "execution_count": 34,
   "id": "47e4b9b4-df5c-43ef-81fe-2edfd382e3af",
   "metadata": {},
   "outputs": [
    {
     "name": "stdout",
     "output_type": "stream",
     "text": [
      "<class 'pandas.core.frame.DataFrame'>\n",
      "Index: 8017 entries, 0 to 8152\n",
      "Data columns (total 20 columns):\n",
      " #   Column           Non-Null Count  Dtype                    \n",
      "---  ------           --------------  -----                    \n",
      " 0   Customer ID      8017 non-null   int64                    \n",
      " 1   Item Name        8017 non-null   object                   \n",
      " 2   SKU              8017 non-null   object                   \n",
      " 3   Category Name    8017 non-null   category                 \n",
      " 4   Invoice Number   8017 non-null   int64                    \n",
      " 5   Invoice Status   8017 non-null   category                 \n",
      " 6   IRM              8017 non-null   category                 \n",
      " 7   Zip              8017 non-null   int64                    \n",
      " 8   Buyers Premium   8017 non-null   float64                  \n",
      " 9   Status           8017 non-null   category                 \n",
      " 10  Sale Title       8017 non-null   object                   \n",
      " 11  Sale Start Date  8017 non-null   datetime64[ns, UTC-07:00]\n",
      " 12  Sale End Date    8017 non-null   datetime64[ns, UTC-07:00]\n",
      " 13  Reserve Price    8017 non-null   float64                  \n",
      " 14  Number of Views  8017 non-null   int64                    \n",
      " 15  Sale Price       8017 non-null   float64                  \n",
      " 16  Tax              8017 non-null   float64                  \n",
      " 17  Number of Bids   8017 non-null   int64                    \n",
      " 18  Taxexempt        8017 non-null   bool                     \n",
      " 19  Item Link        8017 non-null   object                   \n",
      "dtypes: bool(1), category(4), datetime64[ns, UTC-07:00](2), float64(4), int64(5), object(4)\n",
      "memory usage: 1.0+ MB\n"
     ]
    }
   ],
   "source": [
    "saleshist.info()"
   ]
  },
  {
   "cell_type": "markdown",
   "id": "d052ebf4-1342-4930-9140-5d34fee21d7d",
   "metadata": {},
   "source": [
    "#### Checking for duplicates"
   ]
  },
  {
   "cell_type": "code",
   "execution_count": 36,
   "id": "13e389a1-cf48-4690-b47f-929e7c05296a",
   "metadata": {},
   "outputs": [
    {
     "data": {
      "text/plain": [
       "0"
      ]
     },
     "execution_count": 36,
     "metadata": {},
     "output_type": "execute_result"
    }
   ],
   "source": [
    "saleshist.duplicated().sum()"
   ]
  },
  {
   "cell_type": "markdown",
   "id": "c919d446-7526-45d5-bedf-696ef9e1b225",
   "metadata": {},
   "source": [
    "Excellent no duplicates"
   ]
  },
  {
   "cell_type": "markdown",
   "id": "04fdb68f-e5c1-443d-b51a-6f963428ff0f",
   "metadata": {},
   "source": [
    "#### Looking for outliers"
   ]
  },
  {
   "cell_type": "code",
   "execution_count": 39,
   "id": "c966e64c-1a62-4819-a9ff-be077a041c29",
   "metadata": {},
   "outputs": [],
   "source": [
    "# Filtering numeric columns\n",
    "numerical_cols = saleshist.select_dtypes(include=['float64', 'int64']).columns"
   ]
  },
  {
   "cell_type": "code",
   "execution_count": 40,
   "id": "855a9019-def4-491e-85b3-d546c019bec7",
   "metadata": {},
   "outputs": [
    {
     "data": {
      "image/png": "[encoded data removed]",
      "text/plain": [
       "<Figure size 1200x800 with 1 Axes>"
      ]
     },
     "metadata": {},
     "output_type": "display_data"
    }
   ],
   "source": [
    "# Visualizing outliers for numeric columns using a boxplot\n",
    "plt.figure(figsize=(12, 8))\n",
    "saleshist[numerical_cols].boxplot(rot=45)\n",
    "plt.title(\"Boxplot for Outlier Detection\")\n",
    "plt.show()"
   ]
  },
  {
   "cell_type": "markdown",
   "id": "5def32d4-8188-4222-89a5-02193e318293",
   "metadata": {},
   "source": [
    "**It is okay to have outliers in invoice numbers as they are computationally generated for the entire Ctbids online auction platform. Therefore looks like we have no outliers we need to handle.**"
   ]
  },
  {
   "cell_type": "markdown",
   "id": "2697d0ea-57cf-4deb-af3f-d637b788fa2c",
   "metadata": {},
   "source": [
    "#### Making sure digits in Zip only include a total of 5 digits"
   ]
  },
  {
   "cell_type": "code",
   "execution_count": 43,
   "id": "3abeeb29-6e8c-4b0a-ab68-42801f5d0774",
   "metadata": {},
   "outputs": [
    {
     "name": "stdout",
     "output_type": "stream",
     "text": [
      "Number of Invalid Zip Codes: 51\n",
      "         Zip\n",
      "67      2346\n",
      "272     2905\n",
      "295     2132\n",
      "436   857186\n",
      "482     3820\n",
      "708     2151\n",
      "725   857186\n",
      "801     1603\n",
      "1256    1890\n",
      "1705    4572\n",
      "1729    7016\n",
      "1774    1453\n",
      "1813  857186\n",
      "1866    2703\n",
      "2092    2360\n",
      "2283  857186\n",
      "2326    3820\n",
      "2471  857186\n",
      "2622  857186\n",
      "2719    2346\n",
      "2937    1230\n",
      "2983  857186\n",
      "3100  857186\n",
      "3246    3820\n",
      "3247    3820\n",
      "3306    3820\n",
      "3307    3820\n",
      "3356    4579\n",
      "3454  857186\n",
      "3662  857186\n",
      "3697    3820\n",
      "3903    8701\n",
      "3905    4105\n",
      "4255    4105\n",
      "4459    7079\n",
      "4552    4105\n",
      "4672    7064\n",
      "4756    4032\n",
      "4826    1340\n",
      "4970    2145\n",
      "6164    4105\n",
      "6355    7064\n",
      "6743    1864\n",
      "7050    4009\n",
      "7094    3865\n",
      "7240    6019\n",
      "7404    4009\n",
      "7526    4009\n",
      "7667    4579\n",
      "7805    1609\n",
      "7844    4101\n"
     ]
    }
   ],
   "source": [
    "# Converting Zip column to a str to do check\n",
    "saleshist['Zip'] = saleshist['Zip'].astype(str)\n",
    "\n",
    "invalid_zips = saleshist[~saleshist['Zip'].str.match(r'^\\d{5}$')]\n",
    "print(f\"Number of Invalid Zip Codes: {len(invalid_zips)}\")\n",
    "print(invalid_zips[['Zip']])"
   ]
  },
  {
   "cell_type": "markdown",
   "id": "d48e77bc-4294-4d55-a4e3-0938cc9fd544",
   "metadata": {},
   "source": [
    "**Out of the 51 invalid zip codes, I know that 857186 is a elongation of 85718. I will go ahead and fix those, as for all others I am going to remove them since they are invalid and I am unable to determine what was intended.**"
   ]
  },
  {
   "cell_type": "code",
   "execution_count": 45,
   "id": "ae20125e-a03e-46f2-8520-cdd3ef891228",
   "metadata": {},
   "outputs": [],
   "source": [
    "# Updating 857186 to 85718\n",
    "saleshist.loc[saleshist['Zip'] == '857186', 'Zip'] = '85718'"
   ]
  },
  {
   "cell_type": "code",
   "execution_count": 46,
   "id": "286036c6-6c22-4563-b311-d868f2ae419d",
   "metadata": {},
   "outputs": [],
   "source": [
    "# Removing invalid zip codes\n",
    "saleshist = saleshist[saleshist['Zip'].str.match(r'^\\d{5}$')] "
   ]
  },
  {
   "cell_type": "code",
   "execution_count": 47,
   "id": "3ee27503-7ad7-4211-ac2f-7453f9db2bcc",
   "metadata": {},
   "outputs": [],
   "source": [
    "# Converting zip back to an int\n",
    "saleshist['Zip'] = saleshist['Zip'].astype(int)"
   ]
  },
  {
   "cell_type": "markdown",
   "id": "e2126aab-fbc1-4fd3-93f7-0a9854bc4337",
   "metadata": {},
   "source": [
    "#### Lastly I am going to safe Pickle this file for upcoming EDA"
   ]
  },
  {
   "cell_type": "code",
   "execution_count": 49,
   "id": "ce15cf11-2687-41ca-85a5-7fe4e25a3e8c",
   "metadata": {},
   "outputs": [],
   "source": [
    "saleshist.to_pickle(\"saleshist.pkl\")"
   ]
  }
 ],
 "metadata": {
  "kernelspec": {
   "display_name": "Python 3 (ipykernel)",
   "language": "python",
   "name": "python3"
  },
  "language_info": {
   "codemirror_mode": {
    "name": "ipython",
    "version": 3
   },
   "file_extension": ".py",
   "mimetype": "text/x-python",
   "name": "python",
   "nbconvert_exporter": "python",
   "pygments_lexer": "ipython3",
   "version": "3.12.4"
  }
 },
 "nbformat": 4,
 "nbformat_minor": 5
}
